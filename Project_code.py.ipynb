{
  "cells": [
    {
      "cell_type": "code",
      "execution_count": 5,
      "metadata": {
        "colab": {
          "base_uri": "https://localhost:8080/"
        },
        "id": "xggcAxm1U4I_",
        "outputId": "0526ba61-6de2-41a3-ccb7-acd1b0034922"
      },
      "outputs": [
        {
          "name": "stderr",
          "output_type": "stream",
          "text": [
            "[nltk_data] Downloading package stopwords to\n",
            "[nltk_data]     C:\\Users\\RupaP\\AppData\\Roaming\\nltk_data...\n",
            "[nltk_data]   Package stopwords is already up-to-date!\n",
            "[nltk_data] Downloading package wordnet to\n",
            "[nltk_data]     C:\\Users\\RupaP\\AppData\\Roaming\\nltk_data...\n",
            "[nltk_data]   Package wordnet is already up-to-date!\n"
          ]
        },
        {
          "data": {
            "text/plain": [
              "True"
            ]
          },
          "execution_count": 5,
          "metadata": {},
          "output_type": "execute_result"
        }
      ],
      "source": [
        "# Importing necessary libraries\n",
        "import numpy as np\n",
        "import pandas as pd\n",
        "from sklearn.feature_extraction.text import CountVectorizer\n",
        "from sklearn.naive_bayes import MultinomialNB\n",
        "import nltk\n",
        "from nltk.corpus import stopwords\n",
        "from nltk.stem import WordNetLemmatizer\n",
        "from nltk.tokenize import word_tokenize\n",
        "nltk.download('stopwords')\n",
        "nltk.download('wordnet')"
      ]
    },
    {
      "cell_type": "code",
      "execution_count": 6,
      "metadata": {
        "colab": {
          "base_uri": "https://localhost:8080/",
          "height": 258
        },
        "id": "2fpZABUAVAyY",
        "outputId": "801e3ec7-5a96-4644-8c0f-c878d0222813"
      },
      "outputs": [
        {
          "data": {
            "text/html": [
              "<div>\n",
              "<style scoped>\n",
              "    .dataframe tbody tr th:only-of-type {\n",
              "        vertical-align: middle;\n",
              "    }\n",
              "\n",
              "    .dataframe tbody tr th {\n",
              "        vertical-align: top;\n",
              "    }\n",
              "\n",
              "    .dataframe thead th {\n",
              "        text-align: right;\n",
              "    }\n",
              "</style>\n",
              "<table border=\"1\" class=\"dataframe\">\n",
              "  <thead>\n",
              "    <tr style=\"text-align: right;\">\n",
              "      <th></th>\n",
              "      <th>text</th>\n",
              "      <th>is_rumor</th>\n",
              "      <th>user.handle</th>\n",
              "      <th>topic</th>\n",
              "    </tr>\n",
              "  </thead>\n",
              "  <tbody>\n",
              "    <tr>\n",
              "      <th>0</th>\n",
              "      <td>Charlie Hebdo became well known for publishing...</td>\n",
              "      <td>0.0</td>\n",
              "      <td>BBCDanielS</td>\n",
              "      <td>charliehebdo</td>\n",
              "    </tr>\n",
              "    <tr>\n",
              "      <th>1</th>\n",
              "      <td>Now 10 dead in a shooting there today RT \"@BBC...</td>\n",
              "      <td>0.0</td>\n",
              "      <td>robbylevy</td>\n",
              "      <td>charliehebdo</td>\n",
              "    </tr>\n",
              "    <tr>\n",
              "      <th>2</th>\n",
              "      <td>@BBCDanielS @BBCWorld I'm guessing this is bei...</td>\n",
              "      <td>0.0</td>\n",
              "      <td>ModerateInAll</td>\n",
              "      <td>charliehebdo</td>\n",
              "    </tr>\n",
              "    <tr>\n",
              "      <th>3</th>\n",
              "      <td>@BBCDanielS @BBCWorld why would you mention th...</td>\n",
              "      <td>0.0</td>\n",
              "      <td>GabTarquini</td>\n",
              "      <td>charliehebdo</td>\n",
              "    </tr>\n",
              "    <tr>\n",
              "      <th>4</th>\n",
              "      <td>@BBCDanielS @BBCWorld perps identified?</td>\n",
              "      <td>0.0</td>\n",
              "      <td>freethought41</td>\n",
              "      <td>charliehebdo</td>\n",
              "    </tr>\n",
              "  </tbody>\n",
              "</table>\n",
              "</div>"
            ],
            "text/plain": [
              "                                                text  is_rumor    user.handle  \\\n",
              "0  Charlie Hebdo became well known for publishing...       0.0     BBCDanielS   \n",
              "1  Now 10 dead in a shooting there today RT \"@BBC...       0.0      robbylevy   \n",
              "2  @BBCDanielS @BBCWorld I'm guessing this is bei...       0.0  ModerateInAll   \n",
              "3  @BBCDanielS @BBCWorld why would you mention th...       0.0    GabTarquini   \n",
              "4            @BBCDanielS @BBCWorld perps identified?       0.0  freethought41   \n",
              "\n",
              "          topic  \n",
              "0  charliehebdo  \n",
              "1  charliehebdo  \n",
              "2  charliehebdo  \n",
              "3  charliehebdo  \n",
              "4  charliehebdo  "
            ]
          },
          "execution_count": 6,
          "metadata": {},
          "output_type": "execute_result"
        }
      ],
      "source": [
        "#REading dataset\n",
        "df=pd.read_csv(r\"C:\\Users\\RupaP\\Downloads\\dataset.csv\")\n",
        "df.head()"
      ]
    },
    {
      "cell_type": "code",
      "execution_count": 7,
      "metadata": {
        "colab": {
          "base_uri": "https://localhost:8080/"
        },
        "id": "ubLySpFNYKRX",
        "outputId": "6dd07eb9-8ae7-466b-e9d2-2867f0b0fb08"
      },
      "outputs": [
        {
          "data": {
            "text/plain": [
              "(62445, 4)"
            ]
          },
          "execution_count": 7,
          "metadata": {},
          "output_type": "execute_result"
        }
      ],
      "source": [
        "df.shape"
      ]
    },
    {
      "cell_type": "code",
      "execution_count": 8,
      "metadata": {
        "colab": {
          "base_uri": "https://localhost:8080/"
        },
        "id": "6wBfbrEOYNMB",
        "outputId": "08bb1f06-6110-44e1-fe4b-6cdd6b9bb2d2"
      },
      "outputs": [
        {
          "data": {
            "text/plain": [
              "text            object\n",
              "is_rumor       float64\n",
              "user.handle     object\n",
              "topic           object\n",
              "dtype: object"
            ]
          },
          "execution_count": 8,
          "metadata": {},
          "output_type": "execute_result"
        }
      ],
      "source": [
        "df.dtypes"
      ]
    },
    {
      "cell_type": "code",
      "execution_count": 9,
      "metadata": {
        "colab": {
          "base_uri": "https://localhost:8080/"
        },
        "id": "1hKFPBmRYRUb",
        "outputId": "88d42924-ce83-48b8-d557-1e04ade7745a"
      },
      "outputs": [
        {
          "data": {
            "text/plain": [
              "text               0\n",
              "is_rumor           2\n",
              "user.handle        2\n",
              "topic          12777\n",
              "dtype: int64"
            ]
          },
          "execution_count": 9,
          "metadata": {},
          "output_type": "execute_result"
        }
      ],
      "source": [
        "df.isnull().sum()"
      ]
    },
    {
      "cell_type": "code",
      "execution_count": 10,
      "metadata": {
        "id": "UgW1s7qbYVO4"
      },
      "outputs": [],
      "source": [
        "df.dropna(axis=0, inplace=True)"
      ]
    },
    {
      "cell_type": "code",
      "execution_count": 11,
      "metadata": {
        "colab": {
          "base_uri": "https://localhost:8080/"
        },
        "id": "OO9P4SUdYaKP",
        "outputId": "0fc7ec19-0695-497d-9c9b-c2bd0fa12083"
      },
      "outputs": [
        {
          "data": {
            "text/plain": [
              "795"
            ]
          },
          "execution_count": 11,
          "metadata": {},
          "output_type": "execute_result"
        }
      ],
      "source": [
        "df.duplicated().sum()"
      ]
    },
    {
      "cell_type": "code",
      "execution_count": 12,
      "metadata": {
        "colab": {
          "base_uri": "https://localhost:8080/"
        },
        "id": "R8qENE6eYhFF",
        "outputId": "254e5419-a535-4bae-e731-6feda58d71f0"
      },
      "outputs": [
        {
          "data": {
            "text/plain": [
              "0"
            ]
          },
          "execution_count": 12,
          "metadata": {},
          "output_type": "execute_result"
        }
      ],
      "source": [
        "#Removing duplicates\n",
        "df.drop_duplicates(inplace=True)\n",
        "df.duplicated().sum()"
      ]
    },
    {
      "cell_type": "code",
      "execution_count": null,
      "metadata": {},
      "outputs": [],
      "source": [
        "import nltk\n",
        "nltk.download('punkt')"
      ]
    },
    {
      "cell_type": "code",
      "execution_count": 13,
      "metadata": {
        "colab": {
          "base_uri": "https://localhost:8080/",
          "height": 74
        },
        "id": "hgPMe7YFYpTm",
        "outputId": "37b98daf-61b1-4cbf-d788-85371949d224"
      },
      "outputs": [
        {
          "data": {
            "text/html": [
              "<style>#sk-container-id-1 {\n",
              "  /* Definition of color scheme common for light and dark mode */\n",
              "  --sklearn-color-text: black;\n",
              "  --sklearn-color-line: gray;\n",
              "  /* Definition of color scheme for unfitted estimators */\n",
              "  --sklearn-color-unfitted-level-0: #fff5e6;\n",
              "  --sklearn-color-unfitted-level-1: #f6e4d2;\n",
              "  --sklearn-color-unfitted-level-2: #ffe0b3;\n",
              "  --sklearn-color-unfitted-level-3: chocolate;\n",
              "  /* Definition of color scheme for fitted estimators */\n",
              "  --sklearn-color-fitted-level-0: #f0f8ff;\n",
              "  --sklearn-color-fitted-level-1: #d4ebff;\n",
              "  --sklearn-color-fitted-level-2: #b3dbfd;\n",
              "  --sklearn-color-fitted-level-3: cornflowerblue;\n",
              "\n",
              "  /* Specific color for light theme */\n",
              "  --sklearn-color-text-on-default-background: var(--sg-text-color, var(--theme-code-foreground, var(--jp-content-font-color1, black)));\n",
              "  --sklearn-color-background: var(--sg-background-color, var(--theme-background, var(--jp-layout-color0, white)));\n",
              "  --sklearn-color-border-box: var(--sg-text-color, var(--theme-code-foreground, var(--jp-content-font-color1, black)));\n",
              "  --sklearn-color-icon: #696969;\n",
              "\n",
              "  @media (prefers-color-scheme: dark) {\n",
              "    /* Redefinition of color scheme for dark theme */\n",
              "    --sklearn-color-text-on-default-background: var(--sg-text-color, var(--theme-code-foreground, var(--jp-content-font-color1, white)));\n",
              "    --sklearn-color-background: var(--sg-background-color, var(--theme-background, var(--jp-layout-color0, #111)));\n",
              "    --sklearn-color-border-box: var(--sg-text-color, var(--theme-code-foreground, var(--jp-content-font-color1, white)));\n",
              "    --sklearn-color-icon: #878787;\n",
              "  }\n",
              "}\n",
              "\n",
              "#sk-container-id-1 {\n",
              "  color: var(--sklearn-color-text);\n",
              "}\n",
              "\n",
              "#sk-container-id-1 pre {\n",
              "  padding: 0;\n",
              "}\n",
              "\n",
              "#sk-container-id-1 input.sk-hidden--visually {\n",
              "  border: 0;\n",
              "  clip: rect(1px 1px 1px 1px);\n",
              "  clip: rect(1px, 1px, 1px, 1px);\n",
              "  height: 1px;\n",
              "  margin: -1px;\n",
              "  overflow: hidden;\n",
              "  padding: 0;\n",
              "  position: absolute;\n",
              "  width: 1px;\n",
              "}\n",
              "\n",
              "#sk-container-id-1 div.sk-dashed-wrapped {\n",
              "  border: 1px dashed var(--sklearn-color-line);\n",
              "  margin: 0 0.4em 0.5em 0.4em;\n",
              "  box-sizing: border-box;\n",
              "  padding-bottom: 0.4em;\n",
              "  background-color: var(--sklearn-color-background);\n",
              "}\n",
              "\n",
              "#sk-container-id-1 div.sk-container {\n",
              "  /* jupyter's `normalize.less` sets `[hidden] { display: none; }`\n",
              "     but bootstrap.min.css set `[hidden] { display: none !important; }`\n",
              "     so we also need the `!important` here to be able to override the\n",
              "     default hidden behavior on the sphinx rendered scikit-learn.org.\n",
              "     See: https://github.com/scikit-learn/scikit-learn/issues/21755 */\n",
              "  display: inline-block !important;\n",
              "  position: relative;\n",
              "}\n",
              "\n",
              "#sk-container-id-1 div.sk-text-repr-fallback {\n",
              "  display: none;\n",
              "}\n",
              "\n",
              "div.sk-parallel-item,\n",
              "div.sk-serial,\n",
              "div.sk-item {\n",
              "  /* draw centered vertical line to link estimators */\n",
              "  background-image: linear-gradient(var(--sklearn-color-text-on-default-background), var(--sklearn-color-text-on-default-background));\n",
              "  background-size: 2px 100%;\n",
              "  background-repeat: no-repeat;\n",
              "  background-position: center center;\n",
              "}\n",
              "\n",
              "/* Parallel-specific style estimator block */\n",
              "\n",
              "#sk-container-id-1 div.sk-parallel-item::after {\n",
              "  content: \"\";\n",
              "  width: 100%;\n",
              "  border-bottom: 2px solid var(--sklearn-color-text-on-default-background);\n",
              "  flex-grow: 1;\n",
              "}\n",
              "\n",
              "#sk-container-id-1 div.sk-parallel {\n",
              "  display: flex;\n",
              "  align-items: stretch;\n",
              "  justify-content: center;\n",
              "  background-color: var(--sklearn-color-background);\n",
              "  position: relative;\n",
              "}\n",
              "\n",
              "#sk-container-id-1 div.sk-parallel-item {\n",
              "  display: flex;\n",
              "  flex-direction: column;\n",
              "}\n",
              "\n",
              "#sk-container-id-1 div.sk-parallel-item:first-child::after {\n",
              "  align-self: flex-end;\n",
              "  width: 50%;\n",
              "}\n",
              "\n",
              "#sk-container-id-1 div.sk-parallel-item:last-child::after {\n",
              "  align-self: flex-start;\n",
              "  width: 50%;\n",
              "}\n",
              "\n",
              "#sk-container-id-1 div.sk-parallel-item:only-child::after {\n",
              "  width: 0;\n",
              "}\n",
              "\n",
              "/* Serial-specific style estimator block */\n",
              "\n",
              "#sk-container-id-1 div.sk-serial {\n",
              "  display: flex;\n",
              "  flex-direction: column;\n",
              "  align-items: center;\n",
              "  background-color: var(--sklearn-color-background);\n",
              "  padding-right: 1em;\n",
              "  padding-left: 1em;\n",
              "}\n",
              "\n",
              "\n",
              "/* Toggleable style: style used for estimator/Pipeline/ColumnTransformer box that is\n",
              "clickable and can be expanded/collapsed.\n",
              "- Pipeline and ColumnTransformer use this feature and define the default style\n",
              "- Estimators will overwrite some part of the style using the `sk-estimator` class\n",
              "*/\n",
              "\n",
              "/* Pipeline and ColumnTransformer style (default) */\n",
              "\n",
              "#sk-container-id-1 div.sk-toggleable {\n",
              "  /* Default theme specific background. It is overwritten whether we have a\n",
              "  specific estimator or a Pipeline/ColumnTransformer */\n",
              "  background-color: var(--sklearn-color-background);\n",
              "}\n",
              "\n",
              "/* Toggleable label */\n",
              "#sk-container-id-1 label.sk-toggleable__label {\n",
              "  cursor: pointer;\n",
              "  display: block;\n",
              "  width: 100%;\n",
              "  margin-bottom: 0;\n",
              "  padding: 0.5em;\n",
              "  box-sizing: border-box;\n",
              "  text-align: center;\n",
              "}\n",
              "\n",
              "#sk-container-id-1 label.sk-toggleable__label-arrow:before {\n",
              "  /* Arrow on the left of the label */\n",
              "  content: \"▸\";\n",
              "  float: left;\n",
              "  margin-right: 0.25em;\n",
              "  color: var(--sklearn-color-icon);\n",
              "}\n",
              "\n",
              "#sk-container-id-1 label.sk-toggleable__label-arrow:hover:before {\n",
              "  color: var(--sklearn-color-text);\n",
              "}\n",
              "\n",
              "/* Toggleable content - dropdown */\n",
              "\n",
              "#sk-container-id-1 div.sk-toggleable__content {\n",
              "  max-height: 0;\n",
              "  max-width: 0;\n",
              "  overflow: hidden;\n",
              "  text-align: left;\n",
              "  /* unfitted */\n",
              "  background-color: var(--sklearn-color-unfitted-level-0);\n",
              "}\n",
              "\n",
              "#sk-container-id-1 div.sk-toggleable__content.fitted {\n",
              "  /* fitted */\n",
              "  background-color: var(--sklearn-color-fitted-level-0);\n",
              "}\n",
              "\n",
              "#sk-container-id-1 div.sk-toggleable__content pre {\n",
              "  margin: 0.2em;\n",
              "  border-radius: 0.25em;\n",
              "  color: var(--sklearn-color-text);\n",
              "  /* unfitted */\n",
              "  background-color: var(--sklearn-color-unfitted-level-0);\n",
              "}\n",
              "\n",
              "#sk-container-id-1 div.sk-toggleable__content.fitted pre {\n",
              "  /* unfitted */\n",
              "  background-color: var(--sklearn-color-fitted-level-0);\n",
              "}\n",
              "\n",
              "#sk-container-id-1 input.sk-toggleable__control:checked~div.sk-toggleable__content {\n",
              "  /* Expand drop-down */\n",
              "  max-height: 200px;\n",
              "  max-width: 100%;\n",
              "  overflow: auto;\n",
              "}\n",
              "\n",
              "#sk-container-id-1 input.sk-toggleable__control:checked~label.sk-toggleable__label-arrow:before {\n",
              "  content: \"▾\";\n",
              "}\n",
              "\n",
              "/* Pipeline/ColumnTransformer-specific style */\n",
              "\n",
              "#sk-container-id-1 div.sk-label input.sk-toggleable__control:checked~label.sk-toggleable__label {\n",
              "  color: var(--sklearn-color-text);\n",
              "  background-color: var(--sklearn-color-unfitted-level-2);\n",
              "}\n",
              "\n",
              "#sk-container-id-1 div.sk-label.fitted input.sk-toggleable__control:checked~label.sk-toggleable__label {\n",
              "  background-color: var(--sklearn-color-fitted-level-2);\n",
              "}\n",
              "\n",
              "/* Estimator-specific style */\n",
              "\n",
              "/* Colorize estimator box */\n",
              "#sk-container-id-1 div.sk-estimator input.sk-toggleable__control:checked~label.sk-toggleable__label {\n",
              "  /* unfitted */\n",
              "  background-color: var(--sklearn-color-unfitted-level-2);\n",
              "}\n",
              "\n",
              "#sk-container-id-1 div.sk-estimator.fitted input.sk-toggleable__control:checked~label.sk-toggleable__label {\n",
              "  /* fitted */\n",
              "  background-color: var(--sklearn-color-fitted-level-2);\n",
              "}\n",
              "\n",
              "#sk-container-id-1 div.sk-label label.sk-toggleable__label,\n",
              "#sk-container-id-1 div.sk-label label {\n",
              "  /* The background is the default theme color */\n",
              "  color: var(--sklearn-color-text-on-default-background);\n",
              "}\n",
              "\n",
              "/* On hover, darken the color of the background */\n",
              "#sk-container-id-1 div.sk-label:hover label.sk-toggleable__label {\n",
              "  color: var(--sklearn-color-text);\n",
              "  background-color: var(--sklearn-color-unfitted-level-2);\n",
              "}\n",
              "\n",
              "/* Label box, darken color on hover, fitted */\n",
              "#sk-container-id-1 div.sk-label.fitted:hover label.sk-toggleable__label.fitted {\n",
              "  color: var(--sklearn-color-text);\n",
              "  background-color: var(--sklearn-color-fitted-level-2);\n",
              "}\n",
              "\n",
              "/* Estimator label */\n",
              "\n",
              "#sk-container-id-1 div.sk-label label {\n",
              "  font-family: monospace;\n",
              "  font-weight: bold;\n",
              "  display: inline-block;\n",
              "  line-height: 1.2em;\n",
              "}\n",
              "\n",
              "#sk-container-id-1 div.sk-label-container {\n",
              "  text-align: center;\n",
              "}\n",
              "\n",
              "/* Estimator-specific */\n",
              "#sk-container-id-1 div.sk-estimator {\n",
              "  font-family: monospace;\n",
              "  border: 1px dotted var(--sklearn-color-border-box);\n",
              "  border-radius: 0.25em;\n",
              "  box-sizing: border-box;\n",
              "  margin-bottom: 0.5em;\n",
              "  /* unfitted */\n",
              "  background-color: var(--sklearn-color-unfitted-level-0);\n",
              "}\n",
              "\n",
              "#sk-container-id-1 div.sk-estimator.fitted {\n",
              "  /* fitted */\n",
              "  background-color: var(--sklearn-color-fitted-level-0);\n",
              "}\n",
              "\n",
              "/* on hover */\n",
              "#sk-container-id-1 div.sk-estimator:hover {\n",
              "  /* unfitted */\n",
              "  background-color: var(--sklearn-color-unfitted-level-2);\n",
              "}\n",
              "\n",
              "#sk-container-id-1 div.sk-estimator.fitted:hover {\n",
              "  /* fitted */\n",
              "  background-color: var(--sklearn-color-fitted-level-2);\n",
              "}\n",
              "\n",
              "/* Specification for estimator info (e.g. \"i\" and \"?\") */\n",
              "\n",
              "/* Common style for \"i\" and \"?\" */\n",
              "\n",
              ".sk-estimator-doc-link,\n",
              "a:link.sk-estimator-doc-link,\n",
              "a:visited.sk-estimator-doc-link {\n",
              "  float: right;\n",
              "  font-size: smaller;\n",
              "  line-height: 1em;\n",
              "  font-family: monospace;\n",
              "  background-color: var(--sklearn-color-background);\n",
              "  border-radius: 1em;\n",
              "  height: 1em;\n",
              "  width: 1em;\n",
              "  text-decoration: none !important;\n",
              "  margin-left: 1ex;\n",
              "  /* unfitted */\n",
              "  border: var(--sklearn-color-unfitted-level-1) 1pt solid;\n",
              "  color: var(--sklearn-color-unfitted-level-1);\n",
              "}\n",
              "\n",
              ".sk-estimator-doc-link.fitted,\n",
              "a:link.sk-estimator-doc-link.fitted,\n",
              "a:visited.sk-estimator-doc-link.fitted {\n",
              "  /* fitted */\n",
              "  border: var(--sklearn-color-fitted-level-1) 1pt solid;\n",
              "  color: var(--sklearn-color-fitted-level-1);\n",
              "}\n",
              "\n",
              "/* On hover */\n",
              "div.sk-estimator:hover .sk-estimator-doc-link:hover,\n",
              ".sk-estimator-doc-link:hover,\n",
              "div.sk-label-container:hover .sk-estimator-doc-link:hover,\n",
              ".sk-estimator-doc-link:hover {\n",
              "  /* unfitted */\n",
              "  background-color: var(--sklearn-color-unfitted-level-3);\n",
              "  color: var(--sklearn-color-background);\n",
              "  text-decoration: none;\n",
              "}\n",
              "\n",
              "div.sk-estimator.fitted:hover .sk-estimator-doc-link.fitted:hover,\n",
              ".sk-estimator-doc-link.fitted:hover,\n",
              "div.sk-label-container:hover .sk-estimator-doc-link.fitted:hover,\n",
              ".sk-estimator-doc-link.fitted:hover {\n",
              "  /* fitted */\n",
              "  background-color: var(--sklearn-color-fitted-level-3);\n",
              "  color: var(--sklearn-color-background);\n",
              "  text-decoration: none;\n",
              "}\n",
              "\n",
              "/* Span, style for the box shown on hovering the info icon */\n",
              ".sk-estimator-doc-link span {\n",
              "  display: none;\n",
              "  z-index: 9999;\n",
              "  position: relative;\n",
              "  font-weight: normal;\n",
              "  right: .2ex;\n",
              "  padding: .5ex;\n",
              "  margin: .5ex;\n",
              "  width: min-content;\n",
              "  min-width: 20ex;\n",
              "  max-width: 50ex;\n",
              "  color: var(--sklearn-color-text);\n",
              "  box-shadow: 2pt 2pt 4pt #999;\n",
              "  /* unfitted */\n",
              "  background: var(--sklearn-color-unfitted-level-0);\n",
              "  border: .5pt solid var(--sklearn-color-unfitted-level-3);\n",
              "}\n",
              "\n",
              ".sk-estimator-doc-link.fitted span {\n",
              "  /* fitted */\n",
              "  background: var(--sklearn-color-fitted-level-0);\n",
              "  border: var(--sklearn-color-fitted-level-3);\n",
              "}\n",
              "\n",
              ".sk-estimator-doc-link:hover span {\n",
              "  display: block;\n",
              "}\n",
              "\n",
              "/* \"?\"-specific style due to the `<a>` HTML tag */\n",
              "\n",
              "#sk-container-id-1 a.estimator_doc_link {\n",
              "  float: right;\n",
              "  font-size: 1rem;\n",
              "  line-height: 1em;\n",
              "  font-family: monospace;\n",
              "  background-color: var(--sklearn-color-background);\n",
              "  border-radius: 1rem;\n",
              "  height: 1rem;\n",
              "  width: 1rem;\n",
              "  text-decoration: none;\n",
              "  /* unfitted */\n",
              "  color: var(--sklearn-color-unfitted-level-1);\n",
              "  border: var(--sklearn-color-unfitted-level-1) 1pt solid;\n",
              "}\n",
              "\n",
              "#sk-container-id-1 a.estimator_doc_link.fitted {\n",
              "  /* fitted */\n",
              "  border: var(--sklearn-color-fitted-level-1) 1pt solid;\n",
              "  color: var(--sklearn-color-fitted-level-1);\n",
              "}\n",
              "\n",
              "/* On hover */\n",
              "#sk-container-id-1 a.estimator_doc_link:hover {\n",
              "  /* unfitted */\n",
              "  background-color: var(--sklearn-color-unfitted-level-3);\n",
              "  color: var(--sklearn-color-background);\n",
              "  text-decoration: none;\n",
              "}\n",
              "\n",
              "#sk-container-id-1 a.estimator_doc_link.fitted:hover {\n",
              "  /* fitted */\n",
              "  background-color: var(--sklearn-color-fitted-level-3);\n",
              "}\n",
              "</style><div id=\"sk-container-id-1\" class=\"sk-top-container\"><div class=\"sk-text-repr-fallback\"><pre>MultinomialNB()</pre><b>In a Jupyter environment, please rerun this cell to show the HTML representation or trust the notebook. <br />On GitHub, the HTML representation is unable to render, please try loading this page with nbviewer.org.</b></div><div class=\"sk-container\" hidden><div class=\"sk-item\"><div class=\"sk-estimator fitted sk-toggleable\"><input class=\"sk-toggleable__control sk-hidden--visually\" id=\"sk-estimator-id-1\" type=\"checkbox\" checked><label for=\"sk-estimator-id-1\" class=\"sk-toggleable__label fitted sk-toggleable__label-arrow fitted\">&nbsp;&nbsp;MultinomialNB<a class=\"sk-estimator-doc-link fitted\" rel=\"noreferrer\" target=\"_blank\" href=\"https://scikit-learn.org/1.4/modules/generated/sklearn.naive_bayes.MultinomialNB.html\">?<span>Documentation for MultinomialNB</span></a><span class=\"sk-estimator-doc-link fitted\">i<span>Fitted</span></span></label><div class=\"sk-toggleable__content fitted\"><pre>MultinomialNB()</pre></div> </div></div></div></div>"
            ],
            "text/plain": [
              "MultinomialNB()"
            ]
          },
          "execution_count": 13,
          "metadata": {},
          "output_type": "execute_result"
        }
      ],
      "source": [
        "sw = stopwords.words('english')\n",
        "lm = WordNetLemmatizer()\n",
        "text_msg = []\n",
        "for text in df['text']:\n",
        "    t = text.lower()\n",
        "    t = word_tokenize(t)\n",
        "    t = [i for i in t if i not in sw]\n",
        "    t = [lm.lemmatize(i) for i in t]\n",
        "    t = \" \".join(t)\n",
        "    text_msg.append(t)\n",
        "\n",
        "# Creating the feature matrix\n",
        "cv = CountVectorizer(max_features=2000)\n",
        "x = cv.fit_transform(text_msg).toarray()\n",
        "y = df['is_rumor']\n",
        "\n",
        "# Splitting the data into training and testing sets\n",
        "from sklearn.model_selection import train_test_split\n",
        "x_train, x_test, y_train, y_test = train_test_split(x, y, test_size=0.25)\n",
        "\n",
        "from sklearn.naive_bayes import MultinomialNB, GaussianNB\n",
        "m1 = MultinomialNB()\n",
        "m1.fit(x_train,y_train)"
      ]
    },
    {
      "cell_type": "code",
      "execution_count": 14,
      "metadata": {
        "colab": {
          "base_uri": "https://localhost:8080/"
        },
        "id": "QOz3kAZkZEoy",
        "outputId": "77529a8b-5590-422e-f423-c7b1df7a1ff0"
      },
      "outputs": [
        {
          "name": "stdout",
          "output_type": "stream",
          "text": [
            "Training Score 0.9199792649987723\n",
            "Testing Score 0.9183990833196922\n"
          ]
        }
      ],
      "source": [
        "print('Training Score', m1.score(x_train,y_train))\n",
        "print('Testing Score', m1.score(x_test,y_test))"
      ]
    },
    {
      "cell_type": "code",
      "execution_count": 15,
      "metadata": {
        "colab": {
          "base_uri": "https://localhost:8080/"
        },
        "id": "rVOoKJ7DZMAk",
        "outputId": "e67bbe91-19d4-4e19-a979-7be1354c1fe5"
      },
      "outputs": [
        {
          "name": "stdout",
          "output_type": "stream",
          "text": [
            "[0. 0. 0. ... 0. 0. 0.]\n"
          ]
        }
      ],
      "source": [
        "ypred_m1 = m1.predict(x_test)\n",
        "print(ypred_m1)"
      ]
    },
    {
      "cell_type": "code",
      "execution_count": 29,
      "metadata": {},
      "outputs": [
        {
          "name": "stdout",
          "output_type": "stream",
          "text": [
            "Confusion Matrix - Multinomial Naive Bayes:\n",
            "[[10138   544]\n",
            " [  453  1083]]\n"
          ]
        }
      ],
      "source": [
        "from sklearn.metrics import confusion_matrix\n",
        "\n",
        "# Multinomial Naive Bayes\n",
        "cm_m1 = confusion_matrix(y_test, ypred_m1)\n",
        "print(\"Confusion Matrix - Multinomial Naive Bayes:\")\n",
        "print(cm_m1)"
      ]
    },
    {
      "cell_type": "code",
      "execution_count": 32,
      "metadata": {},
      "outputs": [
        {
          "name": "stdout",
          "output_type": "stream",
          "text": [
            "Collecting matplotlibNote: you may need to restart the kernel to use updated packages.\n",
            "\n",
            "  Downloading matplotlib-3.8.4-cp312-cp312-win_amd64.whl.metadata (5.9 kB)\n",
            "Collecting contourpy>=1.0.1 (from matplotlib)\n",
            "  Downloading contourpy-1.2.1-cp312-cp312-win_amd64.whl.metadata (5.8 kB)\n",
            "Collecting cycler>=0.10 (from matplotlib)\n",
            "  Downloading cycler-0.12.1-py3-none-any.whl.metadata (3.8 kB)\n",
            "Collecting fonttools>=4.22.0 (from matplotlib)\n",
            "  Downloading fonttools-4.51.0-cp312-cp312-win_amd64.whl.metadata (162 kB)\n",
            "     ---------------------------------------- 0.0/162.8 kB ? eta -:--:--\n",
            "     -- ------------------------------------- 10.2/162.8 kB ? eta -:--:--\n",
            "     --------- --------------------------- 41.0/162.8 kB 495.5 kB/s eta 0:00:01\n",
            "     ------------------------ ----------- 112.6/162.8 kB 939.4 kB/s eta 0:00:01\n",
            "     ------------------------------------ 162.8/162.8 kB 977.7 kB/s eta 0:00:00\n",
            "Collecting kiwisolver>=1.3.1 (from matplotlib)\n",
            "  Downloading kiwisolver-1.4.5-cp312-cp312-win_amd64.whl.metadata (6.5 kB)\n",
            "Requirement already satisfied: numpy>=1.21 in c:\\users\\rupap\\appdata\\local\\programs\\python\\python312\\lib\\site-packages (from matplotlib) (1.26.4)\n",
            "Requirement already satisfied: packaging>=20.0 in c:\\users\\rupap\\appdata\\local\\programs\\python\\python312\\lib\\site-packages (from matplotlib) (24.0)\n",
            "Requirement already satisfied: pillow>=8 in c:\\users\\rupap\\appdata\\local\\programs\\python\\python312\\lib\\site-packages (from matplotlib) (10.3.0)\n",
            "Collecting pyparsing>=2.3.1 (from matplotlib)\n",
            "  Downloading pyparsing-3.1.2-py3-none-any.whl.metadata (5.1 kB)\n",
            "Requirement already satisfied: python-dateutil>=2.7 in c:\\users\\rupap\\appdata\\local\\programs\\python\\python312\\lib\\site-packages (from matplotlib) (2.9.0.post0)\n",
            "Requirement already satisfied: six>=1.5 in c:\\users\\rupap\\appdata\\local\\programs\\python\\python312\\lib\\site-packages (from python-dateutil>=2.7->matplotlib) (1.16.0)\n",
            "Downloading matplotlib-3.8.4-cp312-cp312-win_amd64.whl (7.7 MB)\n",
            "   ---------------------------------------- 0.0/7.7 MB ? eta -:--:--\n",
            "   - -------------------------------------- 0.2/7.7 MB 12.3 MB/s eta 0:00:01\n",
            "   -- ------------------------------------- 0.5/7.7 MB 4.7 MB/s eta 0:00:02\n",
            "   -- ------------------------------------- 0.5/7.7 MB 4.8 MB/s eta 0:00:02\n",
            "   -- ------------------------------------- 0.5/7.7 MB 3.0 MB/s eta 0:00:03\n",
            "   -- ------------------------------------- 0.5/7.7 MB 3.0 MB/s eta 0:00:03\n",
            "   --- ------------------------------------ 0.8/7.7 MB 2.8 MB/s eta 0:00:03\n",
            "   ----- ---------------------------------- 1.0/7.7 MB 3.2 MB/s eta 0:00:03\n",
            "   ----- ---------------------------------- 1.1/7.7 MB 3.1 MB/s eta 0:00:03\n",
            "   ----- ---------------------------------- 1.1/7.7 MB 3.2 MB/s eta 0:00:03\n",
            "   ----- ---------------------------------- 1.1/7.7 MB 3.2 MB/s eta 0:00:03\n",
            "   ------ --------------------------------- 1.2/7.7 MB 2.5 MB/s eta 0:00:03\n",
            "   ------- -------------------------------- 1.3/7.7 MB 2.4 MB/s eta 0:00:03\n",
            "   ------- -------------------------------- 1.4/7.7 MB 2.4 MB/s eta 0:00:03\n",
            "   ------- -------------------------------- 1.4/7.7 MB 2.4 MB/s eta 0:00:03\n",
            "   ------- -------------------------------- 1.4/7.7 MB 2.4 MB/s eta 0:00:03\n",
            "   ------- -------------------------------- 1.5/7.7 MB 2.1 MB/s eta 0:00:03\n",
            "   ------- -------------------------------- 1.5/7.7 MB 2.1 MB/s eta 0:00:03\n",
            "   -------- ------------------------------- 1.6/7.7 MB 2.0 MB/s eta 0:00:04\n",
            "   -------- ------------------------------- 1.7/7.7 MB 1.9 MB/s eta 0:00:04\n",
            "   --------- ------------------------------ 1.8/7.7 MB 2.0 MB/s eta 0:00:03\n",
            "   --------- ------------------------------ 1.9/7.7 MB 1.9 MB/s eta 0:00:03\n",
            "   --------- ------------------------------ 1.9/7.7 MB 1.9 MB/s eta 0:00:03\n",
            "   --------- ------------------------------ 1.9/7.7 MB 1.9 MB/s eta 0:00:03\n",
            "   ---------- ----------------------------- 1.9/7.7 MB 1.8 MB/s eta 0:00:04\n",
            "   ---------- ----------------------------- 1.9/7.7 MB 1.8 MB/s eta 0:00:04\n",
            "   ---------- ----------------------------- 1.9/7.7 MB 1.8 MB/s eta 0:00:04\n",
            "   ---------- ----------------------------- 2.0/7.7 MB 1.6 MB/s eta 0:00:04\n",
            "   ----------- ---------------------------- 2.2/7.7 MB 1.7 MB/s eta 0:00:04\n",
            "   ----------- ---------------------------- 2.2/7.7 MB 1.7 MB/s eta 0:00:04\n",
            "   ------------ --------------------------- 2.3/7.7 MB 1.7 MB/s eta 0:00:04\n",
            "   ------------ --------------------------- 2.3/7.7 MB 1.7 MB/s eta 0:00:04\n",
            "   ------------ --------------------------- 2.4/7.7 MB 1.7 MB/s eta 0:00:04\n",
            "   ------------ --------------------------- 2.4/7.7 MB 1.7 MB/s eta 0:00:04\n",
            "   ------------- -------------------------- 2.5/7.7 MB 1.6 MB/s eta 0:00:04\n",
            "   ------------- -------------------------- 2.6/7.7 MB 1.6 MB/s eta 0:00:04\n",
            "   ------------- -------------------------- 2.6/7.7 MB 1.6 MB/s eta 0:00:04\n",
            "   ------------- -------------------------- 2.7/7.7 MB 1.6 MB/s eta 0:00:04\n",
            "   -------------- ------------------------- 2.8/7.7 MB 1.6 MB/s eta 0:00:04\n",
            "   -------------- ------------------------- 2.8/7.7 MB 1.6 MB/s eta 0:00:04\n",
            "   -------------- ------------------------- 2.8/7.7 MB 1.6 MB/s eta 0:00:04\n",
            "   --------------- ------------------------ 2.9/7.7 MB 1.6 MB/s eta 0:00:04\n",
            "   --------------- ------------------------ 3.0/7.7 MB 1.6 MB/s eta 0:00:03\n",
            "   --------------- ------------------------ 3.0/7.7 MB 1.6 MB/s eta 0:00:03\n",
            "   ---------------- ----------------------- 3.1/7.7 MB 1.6 MB/s eta 0:00:03\n",
            "   ---------------- ----------------------- 3.2/7.7 MB 1.5 MB/s eta 0:00:03\n",
            "   ---------------- ----------------------- 3.2/7.7 MB 1.5 MB/s eta 0:00:03\n",
            "   ----------------- ---------------------- 3.3/7.7 MB 1.5 MB/s eta 0:00:03\n",
            "   ----------------- ---------------------- 3.3/7.7 MB 1.5 MB/s eta 0:00:03\n",
            "   ----------------- ---------------------- 3.4/7.7 MB 1.5 MB/s eta 0:00:03\n",
            "   ------------------ --------------------- 3.5/7.7 MB 1.5 MB/s eta 0:00:03\n",
            "   ------------------ --------------------- 3.5/7.7 MB 1.5 MB/s eta 0:00:03\n",
            "   ------------------ --------------------- 3.6/7.7 MB 1.5 MB/s eta 0:00:03\n",
            "   ------------------- -------------------- 3.6/7.7 MB 1.5 MB/s eta 0:00:03\n",
            "   ------------------- -------------------- 3.7/7.7 MB 1.5 MB/s eta 0:00:03\n",
            "   ------------------- -------------------- 3.8/7.7 MB 1.5 MB/s eta 0:00:03\n",
            "   ------------------- -------------------- 3.8/7.7 MB 1.5 MB/s eta 0:00:03\n",
            "   -------------------- ------------------- 3.9/7.7 MB 1.5 MB/s eta 0:00:03\n",
            "   -------------------- ------------------- 4.0/7.7 MB 1.5 MB/s eta 0:00:03\n",
            "   --------------------- ------------------ 4.0/7.7 MB 1.5 MB/s eta 0:00:03\n",
            "   --------------------- ------------------ 4.1/7.7 MB 1.5 MB/s eta 0:00:03\n",
            "   --------------------- ------------------ 4.1/7.7 MB 1.5 MB/s eta 0:00:03\n",
            "   ---------------------- ----------------- 4.2/7.7 MB 1.5 MB/s eta 0:00:03\n",
            "   ---------------------- ----------------- 4.3/7.7 MB 1.5 MB/s eta 0:00:03\n",
            "   ---------------------- ----------------- 4.4/7.7 MB 1.5 MB/s eta 0:00:03\n",
            "   ----------------------- ---------------- 4.4/7.7 MB 1.5 MB/s eta 0:00:03\n",
            "   ----------------------- ---------------- 4.5/7.7 MB 1.5 MB/s eta 0:00:03\n",
            "   ----------------------- ---------------- 4.6/7.7 MB 1.5 MB/s eta 0:00:03\n",
            "   ------------------------ --------------- 4.6/7.7 MB 1.5 MB/s eta 0:00:03\n",
            "   ------------------------ --------------- 4.7/7.7 MB 1.5 MB/s eta 0:00:02\n",
            "   ------------------------ --------------- 4.8/7.7 MB 1.5 MB/s eta 0:00:02\n",
            "   ------------------------- -------------- 4.8/7.7 MB 1.5 MB/s eta 0:00:02\n",
            "   ------------------------- -------------- 4.9/7.7 MB 1.5 MB/s eta 0:00:02\n",
            "   ------------------------- -------------- 5.0/7.7 MB 1.5 MB/s eta 0:00:02\n",
            "   -------------------------- ------------- 5.0/7.7 MB 1.5 MB/s eta 0:00:02\n",
            "   -------------------------- ------------- 5.1/7.7 MB 1.5 MB/s eta 0:00:02\n",
            "   -------------------------- ------------- 5.2/7.7 MB 1.5 MB/s eta 0:00:02\n",
            "   --------------------------- ------------ 5.2/7.7 MB 1.5 MB/s eta 0:00:02\n",
            "   --------------------------- ------------ 5.3/7.7 MB 1.5 MB/s eta 0:00:02\n",
            "   ---------------------------- ----------- 5.4/7.7 MB 1.5 MB/s eta 0:00:02\n",
            "   ---------------------------- ----------- 5.4/7.7 MB 1.5 MB/s eta 0:00:02\n",
            "   ---------------------------- ----------- 5.5/7.7 MB 1.5 MB/s eta 0:00:02\n",
            "   ----------------------------- ---------- 5.6/7.7 MB 1.5 MB/s eta 0:00:02\n",
            "   ----------------------------- ---------- 5.7/7.7 MB 1.5 MB/s eta 0:00:02\n",
            "   ----------------------------- ---------- 5.7/7.7 MB 1.5 MB/s eta 0:00:02\n",
            "   ------------------------------ --------- 5.8/7.7 MB 1.5 MB/s eta 0:00:02\n",
            "   ------------------------------ --------- 5.9/7.7 MB 1.5 MB/s eta 0:00:02\n",
            "   ------------------------------ --------- 5.9/7.7 MB 1.5 MB/s eta 0:00:02\n",
            "   ------------------------------- -------- 6.0/7.7 MB 1.5 MB/s eta 0:00:02\n",
            "   ------------------------------- -------- 6.1/7.7 MB 1.5 MB/s eta 0:00:02\n",
            "   -------------------------------- ------- 6.2/7.7 MB 1.5 MB/s eta 0:00:01\n",
            "   -------------------------------- ------- 6.2/7.7 MB 1.5 MB/s eta 0:00:01\n",
            "   -------------------------------- ------- 6.3/7.7 MB 1.5 MB/s eta 0:00:01\n",
            "   --------------------------------- ------ 6.4/7.7 MB 1.5 MB/s eta 0:00:01\n",
            "   --------------------------------- ------ 6.5/7.7 MB 1.5 MB/s eta 0:00:01\n",
            "   ---------------------------------- ----- 6.5/7.7 MB 1.5 MB/s eta 0:00:01\n",
            "   ---------------------------------- ----- 6.6/7.7 MB 1.5 MB/s eta 0:00:01\n",
            "   ---------------------------------- ----- 6.7/7.7 MB 1.5 MB/s eta 0:00:01\n",
            "   ----------------------------------- ---- 6.8/7.7 MB 1.5 MB/s eta 0:00:01\n",
            "   ----------------------------------- ---- 6.8/7.7 MB 1.6 MB/s eta 0:00:01\n",
            "   ------------------------------------ --- 6.9/7.7 MB 1.6 MB/s eta 0:00:01\n",
            "   ------------------------------------ --- 7.0/7.7 MB 1.6 MB/s eta 0:00:01\n",
            "   ------------------------------------ --- 7.1/7.7 MB 1.6 MB/s eta 0:00:01\n",
            "   ------------------------------------- -- 7.1/7.7 MB 1.6 MB/s eta 0:00:01\n",
            "   ------------------------------------- -- 7.2/7.7 MB 1.6 MB/s eta 0:00:01\n",
            "   -------------------------------------- - 7.3/7.7 MB 1.6 MB/s eta 0:00:01\n",
            "   -------------------------------------- - 7.4/7.7 MB 1.6 MB/s eta 0:00:01\n",
            "   ---------------------------------------  7.5/7.7 MB 1.6 MB/s eta 0:00:01\n",
            "   ---------------------------------------  7.6/7.7 MB 1.6 MB/s eta 0:00:01\n",
            "   ---------------------------------------  7.6/7.7 MB 1.6 MB/s eta 0:00:01\n",
            "   ---------------------------------------- 7.7/7.7 MB 1.6 MB/s eta 0:00:00\n",
            "Downloading contourpy-1.2.1-cp312-cp312-win_amd64.whl (189 kB)\n",
            "   ---------------------------------------- 0.0/189.9 kB ? eta -:--:--\n",
            "   ------------------- -------------------- 92.2/189.9 kB 2.6 MB/s eta 0:00:01\n",
            "   -------------------------------------- - 184.3/189.9 kB 2.2 MB/s eta 0:00:01\n",
            "   ---------------------------------------- 189.9/189.9 kB 1.9 MB/s eta 0:00:00\n",
            "Downloading cycler-0.12.1-py3-none-any.whl (8.3 kB)\n",
            "Downloading fonttools-4.51.0-cp312-cp312-win_amd64.whl (2.2 MB)\n",
            "   ---------------------------------------- 0.0/2.2 MB ? eta -:--:--\n",
            "   - -------------------------------------- 0.1/2.2 MB 2.6 MB/s eta 0:00:01\n",
            "   --- ------------------------------------ 0.2/2.2 MB 2.4 MB/s eta 0:00:01\n",
            "   ----- ---------------------------------- 0.3/2.2 MB 2.0 MB/s eta 0:00:01\n",
            "   ------ --------------------------------- 0.4/2.2 MB 2.0 MB/s eta 0:00:01\n",
            "   ------- -------------------------------- 0.4/2.2 MB 1.9 MB/s eta 0:00:01\n",
            "   --------- ------------------------------ 0.5/2.2 MB 1.9 MB/s eta 0:00:01\n",
            "   ---------- ----------------------------- 0.6/2.2 MB 1.9 MB/s eta 0:00:01\n",
            "   ---------- ----------------------------- 0.6/2.2 MB 1.9 MB/s eta 0:00:01\n",
            "   ---------- ----------------------------- 0.6/2.2 MB 1.9 MB/s eta 0:00:01\n",
            "   ----------- ---------------------------- 0.6/2.2 MB 1.5 MB/s eta 0:00:02\n",
            "   ----------- ---------------------------- 0.6/2.2 MB 1.5 MB/s eta 0:00:02\n",
            "   ------------- -------------------------- 0.7/2.2 MB 1.4 MB/s eta 0:00:02\n",
            "   --------------- ------------------------ 0.8/2.2 MB 1.5 MB/s eta 0:00:01\n",
            "   --------------- ------------------------ 0.8/2.2 MB 1.5 MB/s eta 0:00:01\n",
            "   --------------- ------------------------ 0.8/2.2 MB 1.5 MB/s eta 0:00:01\n",
            "   --------------- ------------------------ 0.8/2.2 MB 1.5 MB/s eta 0:00:01\n",
            "   --------------- ------------------------ 0.9/2.2 MB 1.2 MB/s eta 0:00:02\n",
            "   --------------- ------------------------ 0.9/2.2 MB 1.2 MB/s eta 0:00:02\n",
            "   ----------------- ---------------------- 1.0/2.2 MB 1.1 MB/s eta 0:00:02\n",
            "   ------------------ --------------------- 1.0/2.2 MB 1.1 MB/s eta 0:00:02\n",
            "   ------------------ --------------------- 1.0/2.2 MB 1.1 MB/s eta 0:00:02\n",
            "   ------------------ --------------------- 1.0/2.2 MB 1.1 MB/s eta 0:00:02\n",
            "   ------------------ --------------------- 1.0/2.2 MB 1.0 MB/s eta 0:00:02\n",
            "   ------------------- -------------------- 1.0/2.2 MB 987.8 kB/s eta 0:00:02\n",
            "   ------------------- -------------------- 1.0/2.2 MB 987.8 kB/s eta 0:00:02\n",
            "   ------------------- -------------------- 1.0/2.2 MB 987.8 kB/s eta 0:00:02\n",
            "   ------------------- -------------------- 1.1/2.2 MB 925.2 kB/s eta 0:00:02\n",
            "   ------------------- -------------------- 1.1/2.2 MB 874.4 kB/s eta 0:00:02\n",
            "   ------------------- -------------------- 1.1/2.2 MB 874.4 kB/s eta 0:00:02\n",
            "   -------------------- ------------------- 1.1/2.2 MB 836.9 kB/s eta 0:00:02\n",
            "   -------------------- ------------------- 1.1/2.2 MB 836.9 kB/s eta 0:00:02\n",
            "   -------------------- ------------------- 1.1/2.2 MB 788.3 kB/s eta 0:00:02\n",
            "   -------------------- ------------------- 1.1/2.2 MB 788.3 kB/s eta 0:00:02\n",
            "   -------------------- ------------------- 1.1/2.2 MB 788.3 kB/s eta 0:00:02\n",
            "   -------------------- ------------------- 1.1/2.2 MB 744.1 kB/s eta 0:00:02\n",
            "   -------------------- ------------------- 1.1/2.2 MB 744.1 kB/s eta 0:00:02\n",
            "   --------------------- ------------------ 1.1/2.2 MB 720.3 kB/s eta 0:00:02\n",
            "   --------------------- ------------------ 1.2/2.2 MB 699.3 kB/s eta 0:00:02\n",
            "   --------------------- ------------------ 1.2/2.2 MB 699.3 kB/s eta 0:00:02\n",
            "   --------------------- ------------------ 1.2/2.2 MB 679.5 kB/s eta 0:00:02\n",
            "   --------------------- ------------------ 1.2/2.2 MB 667.2 kB/s eta 0:00:02\n",
            "   --------------------- ------------------ 1.2/2.2 MB 667.2 kB/s eta 0:00:02\n",
            "   ---------------------- ----------------- 1.2/2.2 MB 655.4 kB/s eta 0:00:02\n",
            "   ---------------------- ----------------- 1.2/2.2 MB 644.7 kB/s eta 0:00:02\n",
            "   ---------------------- ----------------- 1.2/2.2 MB 629.2 kB/s eta 0:00:02\n",
            "   ---------------------- ----------------- 1.2/2.2 MB 629.2 kB/s eta 0:00:02\n",
            "   ----------------------- ---------------- 1.3/2.2 MB 620.0 kB/s eta 0:00:02\n",
            "   ----------------------- ---------------- 1.3/2.2 MB 610.8 kB/s eta 0:00:02\n",
            "   ----------------------- ---------------- 1.3/2.2 MB 611.6 kB/s eta 0:00:02\n",
            "   ----------------------- ---------------- 1.3/2.2 MB 602.9 kB/s eta 0:00:02\n",
            "   ------------------------ --------------- 1.3/2.2 MB 594.6 kB/s eta 0:00:02\n",
            "   ------------------------ --------------- 1.3/2.2 MB 591.3 kB/s eta 0:00:02\n",
            "   ------------------------ --------------- 1.4/2.2 MB 588.1 kB/s eta 0:00:02\n",
            "   ------------------------- -------------- 1.4/2.2 MB 584.6 kB/s eta 0:00:02\n",
            "   ------------------------- -------------- 1.4/2.2 MB 581.7 kB/s eta 0:00:02\n",
            "   ------------------------- -------------- 1.4/2.2 MB 574.6 kB/s eta 0:00:02\n",
            "   ------------------------- -------------- 1.4/2.2 MB 575.7 kB/s eta 0:00:02\n",
            "   -------------------------- ------------- 1.4/2.2 MB 573.0 kB/s eta 0:00:02\n",
            "   -------------------------- ------------- 1.4/2.2 MB 566.4 kB/s eta 0:00:02\n",
            "   --------------------------- ------------ 1.5/2.2 MB 561.3 kB/s eta 0:00:02\n",
            "   --------------------------- ------------ 1.5/2.2 MB 555.2 kB/s eta 0:00:02\n",
            "   --------------------------- ------------ 1.5/2.2 MB 563.4 kB/s eta 0:00:02\n",
            "   ---------------------------- ----------- 1.5/2.2 MB 557.6 kB/s eta 0:00:02\n",
            "   ---------------------------- ----------- 1.5/2.2 MB 558.5 kB/s eta 0:00:02\n",
            "   ---------------------------- ----------- 1.6/2.2 MB 556.0 kB/s eta 0:00:02\n",
            "   ----------------------------- ---------- 1.6/2.2 MB 554.0 kB/s eta 0:00:02\n",
            "   ----------------------------- ---------- 1.6/2.2 MB 552.7 kB/s eta 0:00:02\n",
            "   ----------------------------- ---------- 1.6/2.2 MB 553.7 kB/s eta 0:00:01\n",
            "   ------------------------------ --------- 1.7/2.2 MB 552.5 kB/s eta 0:00:01\n",
            "   ------------------------------ --------- 1.7/2.2 MB 553.6 kB/s eta 0:00:01\n",
            "   ------------------------------- -------- 1.7/2.2 MB 549.6 kB/s eta 0:00:01\n",
            "   ------------------------------- -------- 1.7/2.2 MB 547.2 kB/s eta 0:00:01\n",
            "   -------------------------------- ------- 1.7/2.2 MB 548.3 kB/s eta 0:00:01\n",
            "   -------------------------------- ------- 1.8/2.2 MB 549.9 kB/s eta 0:00:01\n",
            "   -------------------------------- ------- 1.8/2.2 MB 550.9 kB/s eta 0:00:01\n",
            "   --------------------------------- ------ 1.8/2.2 MB 548.9 kB/s eta 0:00:01\n",
            "   --------------------------------- ------ 1.8/2.2 MB 550.8 kB/s eta 0:00:01\n",
            "   ---------------------------------- ----- 1.9/2.2 MB 552.2 kB/s eta 0:00:01\n",
            "   ---------------------------------- ----- 1.9/2.2 MB 550.2 kB/s eta 0:00:01\n",
            "   ----------------------------------- ---- 1.9/2.2 MB 552.2 kB/s eta 0:00:01\n",
            "   ----------------------------------- ---- 2.0/2.2 MB 553.5 kB/s eta 0:00:01\n",
            "   ------------------------------------ --- 2.0/2.2 MB 553.9 kB/s eta 0:00:01\n",
            "   ------------------------------------ --- 2.0/2.2 MB 555.7 kB/s eta 0:00:01\n",
            "   ------------------------------------- -- 2.0/2.2 MB 554.6 kB/s eta 0:00:01\n",
            "   ------------------------------------- -- 2.0/2.2 MB 554.9 kB/s eta 0:00:01\n",
            "   -------------------------------------- - 2.1/2.2 MB 557.1 kB/s eta 0:00:01\n",
            "   -------------------------------------- - 2.1/2.2 MB 560.3 kB/s eta 0:00:01\n",
            "   ---------------------------------------  2.2/2.2 MB 561.4 kB/s eta 0:00:01\n",
            "   ---------------------------------------  2.2/2.2 MB 562.2 kB/s eta 0:00:01\n",
            "   ---------------------------------------- 2.2/2.2 MB 556.5 kB/s eta 0:00:00\n",
            "Downloading kiwisolver-1.4.5-cp312-cp312-win_amd64.whl (56 kB)\n",
            "   ---------------------------------------- 0.0/56.0 kB ? eta -:--:--\n",
            "   --------------------- ------------------ 30.7/56.0 kB 640.0 kB/s eta 0:00:01\n",
            "   ---------------------------------------- 56.0/56.0 kB 579.3 kB/s eta 0:00:00\n",
            "Downloading pyparsing-3.1.2-py3-none-any.whl (103 kB)\n",
            "   ---------------------------------------- 0.0/103.2 kB ? eta -:--:--\n",
            "   ----------- --------------------------- 30.7/103.2 kB 660.6 kB/s eta 0:00:01\n",
            "   ----------------------- --------------- 61.4/103.2 kB 656.4 kB/s eta 0:00:01\n",
            "   ---------------------------------- ---- 92.2/103.2 kB 751.6 kB/s eta 0:00:01\n",
            "   -------------------------------------- 103.2/103.2 kB 664.3 kB/s eta 0:00:00\n",
            "Installing collected packages: pyparsing, kiwisolver, fonttools, cycler, contourpy, matplotlib\n",
            "Successfully installed contourpy-1.2.1 cycler-0.12.1 fonttools-4.51.0 kiwisolver-1.4.5 matplotlib-3.8.4 pyparsing-3.1.2\n"
          ]
        }
      ],
      "source": [
        "pip install matplotlib\n"
      ]
    },
    {
      "cell_type": "code",
      "execution_count": 34,
      "metadata": {},
      "outputs": [
        {
          "name": "stdout",
          "output_type": "stream",
          "text": [
            "Collecting seabornNote: you may need to restart the kernel to use updated packages.\n",
            "\n",
            "  Downloading seaborn-0.13.2-py3-none-any.whl.metadata (5.4 kB)\n",
            "Requirement already satisfied: numpy!=1.24.0,>=1.20 in c:\\users\\rupap\\appdata\\local\\programs\\python\\python312\\lib\\site-packages (from seaborn) (1.26.4)\n",
            "Requirement already satisfied: pandas>=1.2 in c:\\users\\rupap\\appdata\\local\\programs\\python\\python312\\lib\\site-packages (from seaborn) (2.2.1)\n",
            "Requirement already satisfied: matplotlib!=3.6.1,>=3.4 in c:\\users\\rupap\\appdata\\local\\programs\\python\\python312\\lib\\site-packages (from seaborn) (3.8.4)\n",
            "Requirement already satisfied: contourpy>=1.0.1 in c:\\users\\rupap\\appdata\\local\\programs\\python\\python312\\lib\\site-packages (from matplotlib!=3.6.1,>=3.4->seaborn) (1.2.1)\n",
            "Requirement already satisfied: cycler>=0.10 in c:\\users\\rupap\\appdata\\local\\programs\\python\\python312\\lib\\site-packages (from matplotlib!=3.6.1,>=3.4->seaborn) (0.12.1)\n",
            "Requirement already satisfied: fonttools>=4.22.0 in c:\\users\\rupap\\appdata\\local\\programs\\python\\python312\\lib\\site-packages (from matplotlib!=3.6.1,>=3.4->seaborn) (4.51.0)\n",
            "Requirement already satisfied: kiwisolver>=1.3.1 in c:\\users\\rupap\\appdata\\local\\programs\\python\\python312\\lib\\site-packages (from matplotlib!=3.6.1,>=3.4->seaborn) (1.4.5)\n",
            "Requirement already satisfied: packaging>=20.0 in c:\\users\\rupap\\appdata\\local\\programs\\python\\python312\\lib\\site-packages (from matplotlib!=3.6.1,>=3.4->seaborn) (24.0)\n",
            "Requirement already satisfied: pillow>=8 in c:\\users\\rupap\\appdata\\local\\programs\\python\\python312\\lib\\site-packages (from matplotlib!=3.6.1,>=3.4->seaborn) (10.3.0)\n",
            "Requirement already satisfied: pyparsing>=2.3.1 in c:\\users\\rupap\\appdata\\local\\programs\\python\\python312\\lib\\site-packages (from matplotlib!=3.6.1,>=3.4->seaborn) (3.1.2)\n",
            "Requirement already satisfied: python-dateutil>=2.7 in c:\\users\\rupap\\appdata\\local\\programs\\python\\python312\\lib\\site-packages (from matplotlib!=3.6.1,>=3.4->seaborn) (2.9.0.post0)\n",
            "Requirement already satisfied: pytz>=2020.1 in c:\\users\\rupap\\appdata\\local\\programs\\python\\python312\\lib\\site-packages (from pandas>=1.2->seaborn) (2024.1)\n",
            "Requirement already satisfied: tzdata>=2022.7 in c:\\users\\rupap\\appdata\\local\\programs\\python\\python312\\lib\\site-packages (from pandas>=1.2->seaborn) (2024.1)\n",
            "Requirement already satisfied: six>=1.5 in c:\\users\\rupap\\appdata\\local\\programs\\python\\python312\\lib\\site-packages (from python-dateutil>=2.7->matplotlib!=3.6.1,>=3.4->seaborn) (1.16.0)\n",
            "Downloading seaborn-0.13.2-py3-none-any.whl (294 kB)\n",
            "   ---------------------------------------- 0.0/294.9 kB ? eta -:--:--\n",
            "   - -------------------------------------- 10.2/294.9 kB ? eta -:--:--\n",
            "   - -------------------------------------- 10.2/294.9 kB ? eta -:--:--\n",
            "   ---- ---------------------------------- 30.7/294.9 kB 262.6 kB/s eta 0:00:02\n",
            "   ----- --------------------------------- 41.0/294.9 kB 281.8 kB/s eta 0:00:01\n",
            "   -------------- ----------------------- 112.6/294.9 kB 598.8 kB/s eta 0:00:01\n",
            "   ------------------------- ------------ 194.6/294.9 kB 845.5 kB/s eta 0:00:01\n",
            "   ---------------------------------------- 294.9/294.9 kB 1.1 MB/s eta 0:00:00\n",
            "Installing collected packages: seaborn\n",
            "Successfully installed seaborn-0.13.2\n"
          ]
        }
      ],
      "source": [
        "pip install seaborn\n"
      ]
    },
    {
      "cell_type": "code",
      "execution_count": 35,
      "metadata": {},
      "outputs": [
        {
          "data": {
            "image/png": "[encoded data removed]",
            "text/plain": [
              "<Figure size 800x600 with 2 Axes>"
            ]
          },
          "metadata": {},
          "output_type": "display_data"
        }
      ],
      "source": [
        "import matplotlib.pyplot as plt\n",
        "import seaborn as sns\n",
        "\n",
        "# Plotting the confusion matrix for Multinomial Naive Bayes\n",
        "plt.figure(figsize=(8, 6))\n",
        "sns.heatmap(cm_m1, annot=True, cmap='Blues', fmt='g')\n",
        "plt.title('Confusion Matrix - Multinomial Naive Bayes')\n",
        "plt.xlabel('Predicted Labels')\n",
        "plt.ylabel('True Labels')\n",
        "plt.show()"
      ]
    },
    {
      "cell_type": "code",
      "execution_count": 20,
      "metadata": {
        "colab": {
          "base_uri": "https://localhost:8080/"
        },
        "id": "UUkBicGKeNX3",
        "outputId": "ebe10011-f314-409d-de92-7f87fb56dc12"
      },
      "outputs": [
        {
          "name": "stdout",
          "output_type": "stream",
          "text": [
            "Training Accuracy: 0.873516492510845\n",
            "Testing Accuracy: 0.8766573907349812\n"
          ]
        }
      ],
      "source": [
        "#Random Forest\n",
        "from sklearn.ensemble import RandomForestClassifier\n",
        "from sklearn.metrics import accuracy_score\n",
        "\n",
        "# Create a Random Forest Classifier object with adjusted hyperparameters\n",
        "m3 = RandomForestClassifier(n_estimators=100, max_depth=10, random_state=42)\n",
        "\n",
        "# Fit the classifier to the training data\n",
        "m3.fit(x_train, y_train)\n",
        "\n",
        "# Make predictions using the trained classifier\n",
        "y_train_pred = m3.predict(x_train)\n",
        "y_test_pred = m3.predict(x_test)\n",
        "\n",
        "# Calculate and print the training accuracy\n",
        "train_accuracy = accuracy_score(y_train, y_train_pred)\n",
        "print(\"Training Accuracy:\", train_accuracy)\n",
        "\n",
        "# Calculate and print the testing accuracy\n",
        "test_accuracy = accuracy_score(y_test, y_test_pred)\n",
        "print(\"Testing Accuracy:\", test_accuracy)\n"
      ]
    },
    {
      "cell_type": "code",
      "execution_count": 36,
      "metadata": {},
      "outputs": [
        {
          "name": "stdout",
          "output_type": "stream",
          "text": [
            "\n",
            "Confusion Matrix - Random Forest:\n",
            "[[10682     0]\n",
            " [ 1507    29]]\n"
          ]
        }
      ],
      "source": [
        "# confusion matrix for Random forest\n",
        "cm_m3 = confusion_matrix(y_test, y_test_pred)\n",
        "print(\"\\nConfusion Matrix - Random Forest:\")\n",
        "print(cm_m3)\n"
      ]
    },
    {
      "cell_type": "code",
      "execution_count": 37,
      "metadata": {},
      "outputs": [
        {
          "data": {
            "image/png": "[encoded data removed]",
            "text/plain": [
              "<Figure size 800x600 with 2 Axes>"
            ]
          },
          "metadata": {},
          "output_type": "display_data"
        }
      ],
      "source": [
        "plt.figure(figsize=(8, 6))\n",
        "sns.heatmap(cm_m3, annot=True, cmap='Greens', fmt='g')\n",
        "plt.title('Confusion Matrix - Random Forest')\n",
        "plt.xlabel('Predicted Labels')\n",
        "plt.ylabel('True Labels')\n",
        "plt.show()"
      ]
    },
    {
      "cell_type": "code",
      "execution_count": 24,
      "metadata": {},
      "outputs": [
        {
          "name": "stdout",
          "output_type": "stream",
          "text": [
            "Training_score 0.9955801707909312\n",
            "Testing_score 0.898674087412015\n"
          ]
        }
      ],
      "source": [
        "#Decission tree\n",
        "from sklearn import tree\n",
        "m5 = tree.DecisionTreeClassifier()\n",
        "m5.fit(x_train, y_train)\n",
        "print('Training_score', m5.score(x_train, y_train))\n",
        "print('Testing_score', m5.score(x_test, y_test))"
      ]
    },
    {
      "cell_type": "code",
      "execution_count": 38,
      "metadata": {},
      "outputs": [
        {
          "name": "stdout",
          "output_type": "stream",
          "text": [
            "\n",
            "Confusion Matrix - Decision Tree:\n",
            "[[10013   669]\n",
            " [  569   967]]\n"
          ]
        }
      ],
      "source": [
        "ypred_m5 = m5.predict(x_test)\n",
        "cm_m5 = confusion_matrix(y_test, ypred_m5)\n",
        "print(\"\\nConfusion Matrix - Decision Tree:\")\n",
        "print(cm_m5)"
      ]
    },
    {
      "cell_type": "code",
      "execution_count": 39,
      "metadata": {},
      "outputs": [
        {
          "data": {
            "image/png": "[encoded data removed]",
            "text/plain": [
              "<Figure size 800x600 with 2 Axes>"
            ]
          },
          "metadata": {},
          "output_type": "display_data"
        }
      ],
      "source": [
        "plt.figure(figsize=(8, 6))\n",
        "sns.heatmap(cm_m5, annot=True, cmap='Purples', fmt='g')\n",
        "plt.title('Confusion Matrix - Decision Tree')\n",
        "plt.xlabel('Predicted Labels')\n",
        "plt.ylabel('True Labels')\n",
        "plt.show()"
      ]
    },
    {
      "cell_type": "code",
      "execution_count": 41,
      "metadata": {},
      "outputs": [
        {
          "name": "stdout",
          "output_type": "stream",
          "text": [
            "0\n"
          ]
        }
      ],
      "source": [
        "# Example text to classify\n",
        "example_text = \"@S_Jakobsen @BBCDanielS @BBCWorld not quite sure why you are calling me mate...\"\n",
        "# Preprocessing the example text\n",
        "example_text_processed = example_text.lower()\n",
        "example_text_processed = word_tokenize(example_text_processed)\n",
        "example_text_processed = [i for i in example_text_processed if i not in sw]\n",
        "example_text_processed = [lm.lemmatize(i) for i in example_text_processed]\n",
        "example_text_processed = \" \".join(example_text_processed)\n",
        "\n",
        "# Transforming the example text into a feature vector\n",
        "example_text_vector = cv.transform([example_text_processed]).toarray()\n",
        "\n",
        "# Predicting using the trained classifier\n",
        "prediction = m5.predict(example_text_vector)\n",
        "\n",
        "# Printing the prediction\n",
        "if prediction[0] == 1:\n",
        "    print(\"1\")\n",
        "else:\n",
        "    print(\"0\")"
      ]
    }
  ],
  "metadata": {
    "colab": {
      "provenance": []
    },
    "kernelspec": {
      "display_name": "Python 3",
      "name": "python3"
    },
    "language_info": {
      "codemirror_mode": {
        "name": "ipython",
        "version": 3
      },
      "file_extension": ".py",
      "mimetype": "text/x-python",
      "name": "python",
      "nbconvert_exporter": "python",
      "pygments_lexer": "ipython3",
      "version": "3.12.2"
    }
  },
  "nbformat": 4,
  "nbformat_minor": 0
}
